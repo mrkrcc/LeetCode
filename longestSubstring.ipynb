{
 "cells": [
  {
   "cell_type": "code",
   "execution_count": 31,
   "metadata": {},
   "outputs": [],
   "source": [
    "class Solution:\n",
    "    def lengthOfLongestSubstring(self, s: str) -> int:\n",
    "        i = 0\n",
    "        longestLen = 0\n",
    "        temp = 0\n",
    "        while(i < len(s)):\n",
    "            for j in range(i, len(s)):\n",
    "                if len(s[i:j+1]) == len(set(s[i:j+1])):\n",
    "                    temp = len(s[i:j+1]) \n",
    "                else:\n",
    "                    break\n",
    "            if temp > longestLen: longestLen = temp\n",
    "            i += 1\n",
    "        return longestLen"
   ]
  }
 ],
 "metadata": {
  "kernelspec": {
   "display_name": "Python 3.8.10 64-bit",
   "language": "python",
   "name": "python3"
  },
  "language_info": {
   "codemirror_mode": {
    "name": "ipython",
    "version": 3
   },
   "file_extension": ".py",
   "mimetype": "text/x-python",
   "name": "python",
   "nbconvert_exporter": "python",
   "pygments_lexer": "ipython3",
   "version": "3.8.10"
  },
  "orig_nbformat": 4,
  "vscode": {
   "interpreter": {
    "hash": "916dbcbb3f70747c44a77c7bcd40155683ae19c65e1c03b4aa3499c5328201f1"
   }
  }
 },
 "nbformat": 4,
 "nbformat_minor": 2
}
