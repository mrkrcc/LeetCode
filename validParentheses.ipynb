{
 "cells": [
  {
   "cell_type": "code",
   "execution_count": null,
   "metadata": {},
   "outputs": [],
   "source": [
    "class Solution:\n",
    "    def isValid(self, s: str) -> bool:\n",
    "        if not s or len(set(s)) % 2 : return False\n",
    "        myDict = {'(':')', '{':'}','[':']'}\n",
    "        parentheses = []\n",
    "        for c in s:\n",
    "            if c in myDict:\n",
    "                parentheses.append( c )\n",
    "            elif len( parentheses ) == 0 or myDict[ parentheses.pop() ] != c:\n",
    "                return False\n",
    "        return len( parentheses ) == 0\n",
    "\t"
   ]
  },
  {
   "cell_type": "code",
   "execution_count": null,
   "metadata": {},
   "outputs": [],
   "source": [
    "test =Solution()\n",
    "print(test.isValid(\"()\"))"
   ]
  }
 ],
 "metadata": {
  "kernelspec": {
   "display_name": "Python 3.8.10 64-bit",
   "language": "python",
   "name": "python3"
  },
  "language_info": {
   "name": "python",
   "version": "3.8.10"
  },
  "orig_nbformat": 4,
  "vscode": {
   "interpreter": {
    "hash": "916dbcbb3f70747c44a77c7bcd40155683ae19c65e1c03b4aa3499c5328201f1"
   }
  }
 },
 "nbformat": 4,
 "nbformat_minor": 2
}
