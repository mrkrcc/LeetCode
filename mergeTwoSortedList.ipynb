{
 "cells": [
  {
   "cell_type": "code",
   "execution_count": null,
   "metadata": {},
   "outputs": [],
   "source": [
    "class ListNode:\n",
    "    def __init__(self, val=0, next=None):\n",
    "        self.val = val\n",
    "        self.next = next\n",
    "\n",
    "class Solution:\n",
    "    def mergeTwoLists(self, list1: [ListNode], list2: [ListNode]) -> [ListNode]:\n",
    "        x1=[]\n",
    "        x2=[]\n",
    "        x3=res=ListNode(0)\n",
    "        while list1:\n",
    "            x1.append(int(list1.val))\n",
    "            list1=list1.next\n",
    "        while list2:\n",
    "            x2.append(int(list2.val))\n",
    "            list2=list2.next\n",
    "        final = sorted(x1+x2)\n",
    "        for num in final:\n",
    "            x3.next=ListNode(num)\n",
    "            x3=x3.next\n",
    "        return res.next"
   ]
  }
 ],
 "metadata": {
  "kernelspec": {
   "display_name": "Python 3.8.10 64-bit",
   "language": "python",
   "name": "python3"
  },
  "language_info": {
   "name": "python",
   "version": "3.8.10"
  },
  "orig_nbformat": 4,
  "vscode": {
   "interpreter": {
    "hash": "916dbcbb3f70747c44a77c7bcd40155683ae19c65e1c03b4aa3499c5328201f1"
   }
  }
 },
 "nbformat": 4,
 "nbformat_minor": 2
}
