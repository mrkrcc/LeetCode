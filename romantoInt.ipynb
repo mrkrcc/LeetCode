{
 "cells": [
  {
   "cell_type": "code",
   "execution_count": 8,
   "metadata": {},
   "outputs": [],
   "source": [
    "class Solution:\n",
    "    def romanToInt(self, s: str) -> int:\n",
    "        myDict = {  \"I\": 1,\n",
    "                    \"V\": 5,\n",
    "                    \"X\": 10,\n",
    "                    \"L\": 50,\n",
    "                    \"C\": 100,\n",
    "                    \"D\": 500,\n",
    "                    \"M\": 1000\n",
    "                }\n",
    "        i = 0\n",
    "        total = 0\n",
    "        while(i < len(s)):\n",
    "            if (i != len(s) - 1) and (myDict[s[i]] * 5 == myDict[s[i+1]] or myDict[s[i]] * 10 == myDict[s[i+1]]):\n",
    "                total += myDict[s[i+1]] - myDict[s[i]]\n",
    "                i += 2\n",
    "            else:\n",
    "                total += myDict[s[i]]\n",
    "                i += 1\n",
    "        return total"
   ]
  },
  {
   "cell_type": "code",
   "execution_count": 10,
   "metadata": {},
   "outputs": [
    {
     "name": "stdout",
     "output_type": "stream",
     "text": [
      "1994\n"
     ]
    }
   ],
   "source": [
    "test = Solution()\n",
    "print(test.romanToInt( \"MCMXCIV\" ))"
   ]
  }
 ],
 "metadata": {
  "kernelspec": {
   "display_name": "Python 3.8.10 64-bit",
   "language": "python",
   "name": "python3"
  },
  "language_info": {
   "codemirror_mode": {
    "name": "ipython",
    "version": 3
   },
   "file_extension": ".py",
   "mimetype": "text/x-python",
   "name": "python",
   "nbconvert_exporter": "python",
   "pygments_lexer": "ipython3",
   "version": "3.8.10"
  },
  "orig_nbformat": 4,
  "vscode": {
   "interpreter": {
    "hash": "916dbcbb3f70747c44a77c7bcd40155683ae19c65e1c03b4aa3499c5328201f1"
   }
  }
 },
 "nbformat": 4,
 "nbformat_minor": 2
}
