{
 "cells": [
  {
   "cell_type": "code",
   "execution_count": 33,
   "metadata": {},
   "outputs": [],
   "source": [
    "class ListNode:\n",
    "    def __init__(self, val=0, next=None):\n",
    "        self.val = val\n",
    "        self.next = next\n",
    "\n",
    "class Solution:\n",
    "    def addTwoNumbers(self, l1: [ListNode], l2: [ListNode]) -> [ListNode]:\n",
    "        x1=[]\n",
    "        x2=[]\n",
    "        x3=res=ListNode(0)\n",
    "        while l1:\n",
    "            x1.append(int(l1.val))\n",
    "            l1=l1.next\n",
    "        while l2:\n",
    "            x2.append(int(l2.val))\n",
    "            l2=l2.next\n",
    "        n1 = int(\"\".join(str(x1[i]) for i in range(len(x1)-1,-1,-1) ))\n",
    "        n2 = int(\"\".join(str(x2[i]) for i in range(len(x2)-1,-1,-1) ))\n",
    "\n",
    "        final = [int(str(n1+n2)[i]) for i in range(len( str(n1+n2) )-1, -1, -1)]\n",
    "        for num in final:\n",
    "            x3.next=ListNode(num)\n",
    "            x3=x3.next\n",
    "        return res.next"
   ]
  }
 ],
 "metadata": {
  "kernelspec": {
   "display_name": "Python 3.8.10 64-bit",
   "language": "python",
   "name": "python3"
  },
  "language_info": {
   "codemirror_mode": {
    "name": "ipython",
    "version": 3
   },
   "file_extension": ".py",
   "mimetype": "text/x-python",
   "name": "python",
   "nbconvert_exporter": "python",
   "pygments_lexer": "ipython3",
   "version": "3.8.10"
  },
  "orig_nbformat": 4,
  "vscode": {
   "interpreter": {
    "hash": "916dbcbb3f70747c44a77c7bcd40155683ae19c65e1c03b4aa3499c5328201f1"
   }
  }
 },
 "nbformat": 4,
 "nbformat_minor": 2
}
